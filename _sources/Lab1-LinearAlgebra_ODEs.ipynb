{
 "cells": [
  {
   "cell_type": "markdown",
   "metadata": {
    "id": "R7-cdwxCElZu"
   },
   "source": [
    "\n",
    "## Linear Algebra and Ordinary Differential Equations\n",
    "\n",
    "### Instructions\n",
    "\n",
    "Submit your solutions on Canvas on Wednesday (10 November, 17:59). Please hand in the following:\n",
    "- A copy of this notebook with the **code** and results of running the code filled in the required sections. The sections to complete all start as follows:\n",
    "\n",
    "<code>### YOUR CODE HERE ###</code>\n",
    "\n",
    "- A separate pdf file with the answer to the **homework exercises**. These can be identified by the following formatting:\n",
    "<br>\n",
    "\n",
    ">***Homework exercise n***: question(s).\n",
    "<br>\n",
    "\n",
    "### Introduction\n",
    "\n",
    "In this lab, we will use Python to study some essential concepts of linear algebra and then experiment with ordinary differential equations (ODEs) and phase portraits. In the first section, we will see the definitions, the notation, and the operations of vectors and matrices. We then explain determinants and eigenvalues of simple matrices, as these concepts will be used in the next weeks. If you already have a lot of experience with linear algebra in Python, you may skip this section.\n",
    "\n",
    "In the second section, we will go step by step through a set of instructions to create a phase portrait for a 2-dimensional system of ODEs. Some of the code is given, but you will need to fill in some sections yourself."
   ]
  },
  {
   "cell_type": "markdown",
   "metadata": {
    "id": "r_72fjAuefz2"
   },
   "source": [
    "\n",
    "\n",
    "---\n",
    "\n",
    "\n",
    "\n",
    "---\n",
    "\n",
    "\n",
    "\n",
    "---\n",
    "\n"
   ]
  },
  {
   "cell_type": "markdown",
   "metadata": {
    "id": "Uaf6YT3ecrTc"
   },
   "source": [
    "### 1. Linear algebra\n",
    "\n",
    "#### Vectors: definitions\n",
    "\n",
    "* **Vector**: formally, vectors are members of a vector space that can be added together and multiplied by a scalar. Visually, think of an arrow (= a line with a direction) situated in a space. In practice, when we use them they look like this: $v = [v_1, v_2, ..., v_{n-1}, v_n]$.\n",
    "\n",
    "\n",
    "* **Scalar**: a ‘scalar’ is the mathematical term for a single number, like 2, 6.7 or 14,000,000.\n",
    "\n",
    "\n",
    "* **Dimensionality**: number of elements in a vector. It may sometimes be referred to as *length*, especially in programming languages: for example, <code>len([1,2,5,0])</code> returns <code>4</code>, the dimensionality of the vector, in Python.\n",
    "\n",
    "\n",
    "* **Length** or **Euclidean norm**: the actual length of a vector. It is computed as follows: $|\\vec{v}| = \\sqrt{v_1^2 + \\ldots + v_n^2}$.\n",
    "\n",
    "\n",
    "* **Scaling**: modifying (= multiplying) the length of a vector $v$ by a scalar value $a$: $a \\times \\vec{v} = \\vec{u}$ with $u_i = a \\times v_i$.\n",
    "\n",
    "\n",
    "* **Vector addition**: adding together vectors of the same dimensionality (= that belong to the same vector space): $\\vec{v} + \\vec{w} = \\vec{w} + \\vec{v} = \\vec{u}$ with $u_i = v_i + w_i$ .\n",
    "\n",
    "\n",
    "* **Vector multiplication or dot product**: multiplying together vectors of the same dimensionality, which results in a scalar: $\\vec{v} \\times \\vec{w} = \\vec{w} \\times \\vec{v} = a$, with $a = \\sum v_i \\times w_i$. In Python, we use the command <code>dot(v,w)</code> or <code>v @ w</code>.\n",
    "\n",
    "In order to deal with vectors and matrices in Python, we use the *numpy* package. When writing <code>import numpy as np</code> in the beginning of our script, we can access all numpy functions using the shortcut <code>np</code>.\n",
    "\n",
    "The following cell contains some commands to create vectors and matrices. Figure out how the functions work."
   ]
  },
  {
   "cell_type": "code",
   "execution_count": null,
   "metadata": {
    "id": "uLKYksJBElZ0"
   },
   "outputs": [],
   "source": [
    "# package for basic algebra\n",
    "import numpy as np\n",
    "\n",
    "#  creating basic row and column vectors and matrices\n",
    "v1   = np.array([1,2,3])\n",
    "v2   = np.array([[1],[2],[3]])\n",
    "m1 = np.array([[1, 2],[3, 4],[5,6]])\n",
    "\n",
    "# other ways to make vectors and matrices\n",
    "v3   = np.repeat(1,3)       \n",
    "v4   = np.arange(1,5,0.5)   \n",
    "v5   = np.zeros([1,2])  \n",
    "v6   = np.random.random(3)\n",
    "v7   = np.random.randint(1,10,4)\n",
    "m2   = np.identity(3)"
   ]
  },
  {
   "cell_type": "code",
   "execution_count": null,
   "metadata": {
    "id": "3izeyCVxgT13"
   },
   "outputs": [],
   "source": [
    "print(v1) # check the values the different variables get by running the code above and changing v1 into v2, v3 etc in this cell, and running it.."
   ]
  },
  {
   "cell_type": "markdown",
   "metadata": {
    "id": "vTss-BltElZ1"
   },
   "source": [
    "#### Matrices: definitions\n",
    "\n",
    "* **Matrix**: a 2D array of numbers, so it has one or more columns and one or more rows (A vector is a matrix with either only one column or only one row;note that in Python, by default, there is no difference between row and column vectors). \n",
    "\n",
    "* **Size**: the **height** (= number of rows) times the **width** (= number of columns) of a matrix.\n",
    "\n",
    "\n",
    "* **Scaling**: modifying (= multiplying) each number in a matrix $A$ by a scalar value $c$: $c \\times A = B$, with $B_{i,j} = c \\times A_{i,j}$.\n",
    "\n",
    "\n",
    "* **Addition**: adding each number of two matrices together $A + B = B + A = C$, with $c_{i,j} = a_{i.j} + b_{i,j}$, only if A and B same sizes\n",
    "\n",
    "\n",
    "* **Multiplication:** you can multiply two matrices to obtain a single matrix. In particular, $A \\times B = C$, with $c_{ij} = \\sum_{k=1}^pa_{ik}b_{kj}$, only if the number columns in $A$ is the same as the number of rows in $B$ (and said number is $p$).\n",
    "\n",
    "\n",
    "Example:    \n",
    "\n",
    "$\\begin{pmatrix}-1 & 2\\\\ 4 & 1 \\end{pmatrix}\n",
    "\\times\n",
    "\\begin{pmatrix}4 & 1\\\\ 3 & 5 \\end{pmatrix}\n",
    "= \\begin{pmatrix} -1 \\cdot 4+2 \\cdot 3 & -1 \\cdot 1+2 \\cdot 5 \\\\ 4 \\cdot 4 + 1 \\cdot 3 & 4 \\cdot 1 + 1 \\cdot 5 \\end{pmatrix}\n",
    "= \\begin{pmatrix}2 & 9\\\\ 19 & 9 \\end{pmatrix}$ \n",
    "\n",
    "In Python, use <code>np.dot(A,B)</code> or <code>A@B</code> to compute the matrix product of $A$ and $B$.\n",
    "\n",
    "<br>\n",
    "\n",
    "> \n",
    "> * Use Python to compute $A \\times B$ and $B \\times A$. Is the result the same? Briefly explain the result in a comment in the code. \n",
    "> \n",
    "> * Play around to understand the difference between <code>np.dot(v1,v2)</code> and <code>v1*v2</code>, where <code>v1</code> and <code>v2</code> are vectors or matrices. \n",
    "> \n",
    "> * Type <code>B.shape</code> and <code>B.size</code>. What information do the commands provide?"
   ]
  },
  {
   "cell_type": "code",
   "execution_count": null,
   "metadata": {
    "id": "nMMNiyeYElZ3"
   },
   "outputs": [],
   "source": [
    "### YOUR CODE HERE ###\n",
    "\n",
    "###"
   ]
  },
  {
   "cell_type": "markdown",
   "metadata": {
    "id": "hyqmm9T3ElZ3"
   },
   "source": [
    "#### Vector transformations\n",
    "\n",
    "Multiplying a vector with a square matrix transforms the vector:  $A * \\vec{v} = \\vec{w}$. Usually the new vector has a new direction or length, or both. \n",
    "\n",
    "Create a 2x2 square matrix and apply it to different vectors to see what linear transformations it defines. Plot your results to get a better understanding.\n",
    "\n",
    "You can define a special matrix $A$ – called the rotation matrix – that only rotates (and does not scale) a vector as follows. After applying this matrix to a vector, the new vector has the same length but a different direction. $\\Phi$  defines the angle of the rotation, where $360^{\\circ}$ corresponds to $\\Phi = 2\\pi$.\n",
    " \n",
    " \n",
    "$ A\\vec{v} = $$\\begin{pmatrix} cos\\phi&-sin\\phi \\\\\\ sin\\phi&cos\\phi\\end{pmatrix}$$\\left(\\begin{array}{c}v_x \\\\ v_y\\end{array}\\right) = $$\n",
    "\\begin{pmatrix} v_xcos\\phi - v_ysin\\phi \\\\\\ v_xsin\\phi + v_ycos\\phi \\end{pmatrix}$\n",
    "        \n",
    "<br>\n",
    "\n",
    "In the following, we draw the vector $\\vec{v} = \\begin{pmatrix}0.5 \\\\0.5\\end{pmatrix}$. We then create a matrix that rotates a vector by 45 degrees (the code applies it to the vector $\\vec{v}$, and draws the resulting vector in red in the same figure) . Note: the code uses <code>math.pi</code> for $\\pi$; to divide real numbers e.g. $5$ and $2$, we use the following notation: <code>5./2.</code>.\n",
    "\n",
    "> Try rotating the vector by 90, 180, 270 and 360 degrees."
   ]
  },
  {
   "cell_type": "code",
   "execution_count": null,
   "metadata": {
    "colab": {
     "base_uri": "https://localhost:8080/",
     "height": 269
    },
    "id": "ksyy_ApLElZ4",
    "outputId": "c71e880e-98d1-4db1-c77b-36a959307712"
   },
   "outputs": [],
   "source": [
    "# package for plotting\n",
    "import matplotlib.pyplot as plt\n",
    "import math\n",
    "\n",
    "v = np.array([0.5,0.5])\n",
    "plt.arrow(0,0,0.5,0.5, head_width = 0.03, color = 'black')\n",
    "phi = 1./4. * math.pi\n",
    "A = np.array([[np.cos(phi), -np.sin(phi)],[np.sin(phi),np.cos(phi)]])\n",
    "w = np.dot(A,v)\n",
    "plt.arrow(0,0,w[0],w[1], head_width = 0.03, color = 'red')\n",
    "\n",
    "# set the axis to the -1,1 range, and plot in a nice square\n",
    "plt.xlim(-1, 1)\n",
    "plt.ylim(-1, 1)\n",
    "plt.gca().set_aspect('equal', adjustable='box')\n",
    "plt.show()\n",
    "### YOUR CODE HERE ###\n",
    "\n",
    "###"
   ]
  },
  {
   "cell_type": "markdown",
   "metadata": {
    "id": "kk8SzaECElZ5"
   },
   "source": [
    "#### Eigenvectors and eigenvalues\n",
    "\n",
    "There are several interesting values we can compute from a square matrix, for instance $M=\\begin{pmatrix}1&2\\\\2&1\\end{pmatrix}$.\n",
    "\n",
    "When $M$ is multiplied with a vector, this yields a new vector, as explained above. For most vectors, both the length and the direction changes. Some vectors however do not get not rotated by mutliplication with $M$ or any other square matrix. For these vectors, it holds that $M\\times \\vec{v} = \\lambda\\vec{v}$. In other words, the vectors get only scaled by the matrix. These are so-called eigenvectors. The corresponding scaling factor $\\lambda$ is called the eigenvalue.\n",
    "\n",
    "<br>\n",
    "\n",
    "> Use  Python function <code>np.linalg.eig()</code> to compute eigenvalues and eigenvectors of the matrix $M$. Try to find matrices that have negative eigenvalues and matrices that have complex eigenvalues."
   ]
  },
  {
   "cell_type": "code",
   "execution_count": null,
   "metadata": {
    "id": "lGnEHRhFElZ5"
   },
   "outputs": [],
   "source": [
    "M = np.array([[1,2],[2,1]])\n",
    "\n",
    "eigenvalues, eigenvectors = np.linalg.eig(M)\n",
    "eigenvalue1 = eigenvalues[0]\n",
    "eigenvector1 = eigenvectors[:,0]\n",
    "print(eigenvalues)\n",
    "print(eigenvectors)\n",
    "#print(eigenvector1)\n",
    "### YOUR CODE HERE ###\n",
    "\n",
    "####"
   ]
  },
  {
   "cell_type": "markdown",
   "metadata": {
    "id": "ugouE4uKp0V4"
   },
   "source": [
    "> Check the eigenvector/eigenvalue condition for both eigenvalues and eigenvectors. I.e., $\\vec{v}$ is an eigenvector of matrix $M$ if:\n",
    ">\n",
    "> $$ M \\vec{v} = \\lambda \\vec{v} $$"
   ]
  },
  {
   "cell_type": "code",
   "execution_count": null,
   "metadata": {
    "id": "PMwGoa9fnSRG"
   },
   "outputs": [],
   "source": [
    "### YOUR CODE HERE ###\n",
    "\n",
    "####"
   ]
  },
  {
   "cell_type": "markdown",
   "metadata": {
    "id": "PE5T6IeMElZ6"
   },
   "source": [
    "If $\\vec{v}$ is an eigenvector of a matrix $M$, then for an arbitrary number $k$, $k \\vec{v}$ is also an eigenvector, with the same eigenvalue. In other words, eigenvectors are not unique.  An $n\\times n$ square matrix has a maximum of $n$ eigenvalues, and equally many *linearly independent* eigenvectors. Two vectors are linarly independent if they are not scaled versions of each other.\n",
    "\n",
    "#### Determinant and trace\n",
    "Two other interesting values of a square matrix are the *determinant* and the *trace*. The determinant of a $2\\times2$ matrix, is computed as follows:\n",
    "\n",
    "$A = \\left( \\begin{array}{cc}    a     & b \\\\    c     & d    \\end{array} \\right), \n",
    "\\quad \\det(A)=\\left| \\begin{array}{cc}  a & b \\\\c& d \\end{array} \\right| = ad - cb$ \n",
    "\n",
    "\n",
    "The *trace* of a matrix is the sum of the main diagonal, which is the one from upper left to lower right.\n",
    "\n",
    "> ***Homework exercise 1***: What are the determinant, trace and eigenvalues of matrix $M$, defined as above? You should use the code to get the eigenvalues and calculate the determinant and trace yourself."
   ]
  },
  {
   "cell_type": "markdown",
   "metadata": {
    "id": "_Zp_fQmjfFsw"
   },
   "source": [
    "\n",
    "\n",
    "---\n",
    "\n",
    "\n",
    "\n",
    "---\n",
    "\n",
    "\n",
    "\n",
    "---\n",
    "\n"
   ]
  },
  {
   "cell_type": "markdown",
   "metadata": {
    "id": "XUbRsgAKElZ6"
   },
   "source": [
    "### 2.1. Phase portraits of 1-dimensional ODEs\n",
    "\n",
    "A phase portrait is a visual representation of the trajectories of a dynamical system. \n",
    "\n",
    "Let's first consider a 1-dimensional ODE:\n",
    "\n",
    "<center>$\\frac{dx}{dt}=2-0.1*x$</center>\n",
    "\n",
    "> ***Homework exercise 2:*** Let's assume that the variable $x$ denotes the speed of an object. What information does the equation above provide? Explain in one sentence!\n",
    "\n",
    "The code below plots a one-dimensional vector field for our ODE. That means, at a range of $x$ values, it draws an arrow pointing into the direction of the derivative $dx$. Moreover, it also plots the function $f(x) = 2-0.1*x$. To \n",
    "plot vectors field, we use the <code>quiver</code> function from the <code>matplotlib.pyplot</code> library."
   ]
  },
  {
   "cell_type": "code",
   "execution_count": null,
   "metadata": {
    "colab": {
     "base_uri": "https://localhost:8080/",
     "height": 265
    },
    "id": "OWGM9j4aElZ7",
    "outputId": "0c832f3b-2c92-4ad7-ca81-50adad5417bb"
   },
   "outputs": [],
   "source": [
    "import matplotlib.pyplot as plt\n",
    "import math\n",
    "import numpy as np\n",
    "\n",
    "# package to solve ODEs\n",
    "from scipy.integrate import odeint\n",
    "\n",
    "# define values to be evaluated\n",
    "x = np.arange(-50,50,5)\n",
    "y = np.repeat(0,len(x))\n",
    "\n",
    "# define ODE\n",
    "dx = -0.5*(40+x)\n",
    "\n",
    "# plot vector field\n",
    "fig, ax = plt.subplots()\n",
    "q = ax.quiver(x, y, dx, 0, color = 'r',  scale = 20,  headwidth= 10) \n",
    "plt.plot(x,dx)\n",
    "plt.xlim(-50,50)\n",
    "\n",
    "plt.show()"
   ]
  },
  {
   "cell_type": "markdown",
   "metadata": {
    "id": "wREYssqgElZ8"
   },
   "source": [
    "Now it's your turn. In a similar way, create a phase portrait of:\n",
    "\n",
    "<center>$\\frac{dx}{dt} = sin(x)$</center>\n",
    "\n",
    "Write your code in the following cell. Check if the directions of the arrows make sense by plotting the actual function $f(x) = sin(x)$ in the same window."
   ]
  },
  {
   "cell_type": "code",
   "execution_count": null,
   "metadata": {
    "id": "HzcM4G7UElZ8"
   },
   "outputs": [],
   "source": [
    "### YOUR CODE HERE ###\n",
    "\n",
    "# define values to be evaluated\n",
    "\n",
    "# define ODE\n",
    "\n",
    "######\n",
    "\n",
    "# plot vector field\n",
    "fig, ax = plt.subplots()\n",
    "q = ax.quiver(x_vecs, y, dx_vecs, 0,  color = 'r',scale = 40, headwidth = 5) \n",
    "\n",
    "plt.plot(x,dx)\n",
    "\n",
    "plt.show()\n",
    "\n",
    "###"
   ]
  },
  {
   "cell_type": "markdown",
   "metadata": {
    "id": "55_uq6g5ElZ9"
   },
   "source": [
    "### 2.2. Phase portraits of 2-dimensional ODEs\n",
    "\n",
    "Now let's consider the 2-dimensional case. We will work with a system of two linear first-order ODEs, defined by:\n",
    "\n",
    "$$\n",
    "\\left\\{ \\begin{array}{c}\n",
    "\\frac{dx}{dt} = a x + b y \\\\\n",
    "\\frac{dy}{dt} = c x + d y\n",
    "\\end{array} \\right.\n",
    "$$\n",
    "\n",
    "where $x$ and $y$ are independent variables and $a$, $b$, $c$ and $d$ are parameters.\n",
    "\n",
    "Whether this system has a stable equilibrium depends on the value of the parameters. By investigating the phase portrait, we will examine how the behavior of the system changes with its parameter values. \n",
    "\n",
    "#### Generating the data \n",
    "To create a phase portrait, we will first generate a grid of points $(x, y)$ at which we want to compute $dx$ and $dy$. We do this by creating a vector with $x$-values and a vector with $y$−values (decide for yourself if you like the current ranges for $x$ and $y$ values). We then create two arrays that together contain all combinations of $x$ and $y$ using the <code>np.meshgrid</code> function.\n"
   ]
  },
  {
   "cell_type": "code",
   "execution_count": null,
   "metadata": {
    "id": "CsDILLsZElZ9"
   },
   "outputs": [],
   "source": [
    "### GENERATE DATA ###\n",
    "\n",
    "# make a grid of x and y values\n",
    "x = np.arange(-2, 2, 0.25)\n",
    "y = np.arange(-2, 2, 0.25)\n",
    "x_vals, y_vals = np.meshgrid(x, y)"
   ]
  },
  {
   "cell_type": "markdown",
   "metadata": {
    "id": "CaELeIIMElZ-"
   },
   "source": [
    "We want to compute $dx$ and $dy$ at all points (<code>x_vals[i,j]</code>, <code>y_vals[i,j]</code>). We will write a\n",
    "function to easily compute these two components. \n",
    "\n",
    "<br>\n",
    "\n",
    ">Create a function called <code>dxdy</code> that takes an $x$ and $y$ value as input, and a vector containing the parameters $a$, $b$, $c$ and $d$ and returns a vector containing $dx$ and $dy$.\n",
    "<br>"
   ]
  },
  {
   "cell_type": "code",
   "execution_count": null,
   "metadata": {
    "id": "0NgY2kxcElZ-"
   },
   "outputs": [],
   "source": [
    "# this is the definition of our 2-dimensional ODE\n",
    "def dxdy(x,y, param):\n",
    "    ### YOUR CODE HERE\n",
    "    return (dx, dy)"
   ]
  },
  {
   "cell_type": "markdown",
   "metadata": {
    "id": "Y9I6DE5xElZ-"
   },
   "source": [
    "We can then use the function to compute the derivative at all previously defined\n",
    "points in the state space using a loop. We will store these components in two arrays\n",
    "called <code>x_dirs</code> and <code>y_dirs</code>."
   ]
  },
  {
   "cell_type": "code",
   "execution_count": null,
   "metadata": {
    "id": "lFGs6VLjElZ-"
   },
   "outputs": [],
   "source": [
    "# COMPUTE ODE values\n",
    "\n",
    "# example values\n",
    "a = -2 ; b = 1 ; c = 1 ; d = -2\n",
    "\n",
    "# set parameters for the ODE\n",
    "param = (a,b,c,d)\n",
    "\n",
    "# evaluate ODE at all points in our grid\n",
    "x_dirs = np.empty((len(x_vals),len(x_vals)))\n",
    "y_dirs = np.empty((len(x_vals),len(x_vals)))\n",
    "\n",
    "for i in np.arange(0,len(x_vals)):\n",
    "    for j in np.arange(0,len(x_vals)):\n",
    "        dir = dxdy(x_vals[i,j], y_vals[i,j], param)\n",
    "        x_dirs[i,j] = dir[0]\n",
    "        y_dirs[i,j] = dir[1]"
   ]
  },
  {
   "cell_type": "markdown",
   "metadata": {
    "id": "EOQ8ny2qElZ_"
   },
   "source": [
    "Now that we have generated the data we needed, we can generate a vector field. \n",
    "\n",
    ">Create the vector field using <code>ax.quiver</code> in the cell below (check out the example from the 1-dimensional ODE above to see how). Vary the parameters $a$, $b$, $c$ and $d$ to see if you can get qualitatively different types of phase portraits."
   ]
  },
  {
   "cell_type": "code",
   "execution_count": null,
   "metadata": {
    "colab": {
     "base_uri": "https://localhost:8080/",
     "height": 265
    },
    "id": "mfT764fMElZ_",
    "outputId": "86bc1dad-8fd0-4f97-c679-ceb1a47c2402"
   },
   "outputs": [],
   "source": [
    "### PLOT VECTOR FIELD ###\n",
    "\n",
    "fig, ax = plt.subplots()\n",
    "q = ax.quiver(x, y, x_dirs, y_dirs) #X: xlocations Y: ylocations U: xdirections V: ydirections\n",
    "plt.draw()\n",
    "\n",
    "###"
   ]
  },
  {
   "cell_type": "markdown",
   "metadata": {
    "id": "9kAHGpZ1ih-K"
   },
   "source": [
    "> Draw vector fields for the dynamical systems defined by the following parameter matrices\n",
    "\n",
    "> $a = -1$ ; $b = 4$ ; $c = -1$ ; $d = 1$\n",
    "\n",
    "> $a = 3$ ; $b = -6$ ; $c = 2$ ; $d = -1$\n",
    "\n",
    "> $a = -4$ ; $b = 5$ ; $c = -5$ ; $d = 2$\n",
    "\n",
    "> What type of equilibrium do they yield?\n"
   ]
  },
  {
   "cell_type": "code",
   "execution_count": null,
   "metadata": {
    "id": "CUmddf0-jOML"
   },
   "outputs": [],
   "source": [
    "### YOUR CODE HERE ###\n",
    "\n",
    "\n",
    "######"
   ]
  },
  {
   "cell_type": "markdown",
   "metadata": {
    "id": "KXLqtFH5ElZ_"
   },
   "source": [
    "#### Drawing nullclines\n",
    "\n",
    "To get a more complete phase portrait, we also want to include the nullclines in the plot.\n",
    "The $x$-nullcline is the set of points where $\\frac{dx}{dt}= 0$, the $y$-nullcline is the set of points where\n",
    "$\\frac{dy}{dt}= 0$. The general definition of nullcline is a little more involved, but these will work for our (2-dimensional) purposes.\n",
    "\n",
    "<br>\n",
    "\n",
    ">***Homework exercise 3***: Analytically (with pen & paper!) determine the two nullclines by finding the solutions to $\\frac{dx}{dt}= 0$ and $\\frac{dy}{dt}= 0$ as a function of $a$, $b$, $c$ and $d$ (and $x$). Both your solutions should be of the form $y = f(x, a, b, c, d)$ i.e. you must not have numbers in place of them.\n",
    ">\n",
    ">Show analytically (i.e. using the equations you just found) that $(0, 0)$ is an equilibrium.\n",
    "\n",
    "Create a function $x$-nullcline and a function $y$-nullcline that return the $y$-values for the $x$- and $y$-nullclines as a function of $x$ and a vector containing the parameters $a$, $b$, $c$ and $d$. Use these functions to plot the $x$ and the $y$ nullcline."
   ]
  },
  {
   "cell_type": "code",
   "execution_count": null,
   "metadata": {
    "colab": {
     "base_uri": "https://localhost:8080/",
     "height": 269
    },
    "id": "1NGXdLJnElZ_",
    "outputId": "fbf9161c-0802-4836-8910-3a3684ea28c9"
   },
   "outputs": [],
   "source": [
    "### NULLCLINES ###\n",
    "\n",
    "# definition of the x and y nullcline\n",
    "def x_nullcline(x,params):\n",
    "    return -params[0]*x/params[1]\n",
    "\n",
    "def y_nullcline(x,params):\n",
    "    return -params[2]*x/params[3]\n",
    "\n",
    "# plot nullclines\n",
    "plt.plot(x,x_nullcline(x,param))\n",
    "plt.plot(x,y_nullcline(x,param))\n",
    "plt.ylim((-2,2))\n",
    "plt.xlim((-2, 2))\n",
    "plt.draw()\n",
    "\n",
    "###"
   ]
  },
  {
   "cell_type": "markdown",
   "metadata": {
    "id": "qiiGgyb-ElaA"
   },
   "source": [
    "####  Drawing trajectories\n",
    "To draw trajectories through the statespace, we use the function <code>odeint</code> from the <code>scipy.integrate</code> package. The function <code>odeint</code> takes the following inputs: the state vector (containing the values $x$ and $y$), the times at which output is required ($t$), the function that returns the rate of change ($\\frac{dx}{dy}$), and the parameter vector ($param$).\n",
    "\n",
    "The odeint function requires a specific format for the description of the system; you can use the following function, which uses the function <code>dxdy</code> you wrote yourself before:\n"
   ]
  },
  {
   "cell_type": "code",
   "execution_count": null,
   "metadata": {
    "id": "VZrhxiGkElaA"
   },
   "outputs": [],
   "source": [
    "# this is the definition of our 2-dimensional ODE\n",
    "\n",
    "def ode_system(state, t, param):\n",
    "    x = state [0]\n",
    "    y = state [1]\n",
    "    # Here we us the dxdy function\n",
    "    return (dxdy(x, y, param))"
   ]
  },
  {
   "cell_type": "markdown",
   "metadata": {
    "id": "rcAVljh9ElaA"
   },
   "source": [
    "We can now use the odeint function to compute a trajectory starting from <code>x_init</code> and <code>y_init</code>. In the top of the following cell, copy the pieces of code you wrote above to make the vector field and to plot the nullclines to create a full phase portrait."
   ]
  },
  {
   "cell_type": "code",
   "execution_count": null,
   "metadata": {
    "colab": {
     "base_uri": "https://localhost:8080/",
     "height": 269
    },
    "id": "KHu2XjlOElaB",
    "outputId": "de7119e8-612f-41f4-f27a-1b5c26931fd4"
   },
   "outputs": [],
   "source": [
    "# plot vectorfield\n",
    "fig, ax = plt.subplots()\n",
    "q = ax.quiver(x, y, x_dirs, y_dirs) #X: xlocations Y: ylocations U: xdirections V: ydirections\n",
    "\n",
    "# plot nullclines\n",
    "plt.plot(x,x_nullcline(x,param))\n",
    "plt.plot(x,y_nullcline(x,param))\n",
    "plt.ylim((-2,2))\n",
    "plt.xlim((-2, 2))\n",
    "plt.draw()\n",
    "\n",
    "###\n",
    "\n",
    "### TRAJECTORIES ###\n",
    "# make grid of initial values for trajectories\n",
    "x_init = np.arange(-1, 2, 1)\n",
    "y_init = np.arange(-1, 2, 1)\n",
    "x_grid, y_grid = np.meshgrid(x_init, y_init)\n",
    "plt.plot(x_grid,y_grid,'bo')\n",
    "\n",
    "# time points to evaluate\n",
    "t = np.arange(1,6,0.01)\n",
    "\n",
    "# compute trajectories for each point on grid\n",
    "for i in np.arange(0,len(x_init)):\n",
    "    for j in np.arange(0,len(x_init)):\n",
    "        state = np.array([x_init[i], y_init[j]])\n",
    "        trajectory = odeint(ode_system, state, t, args = (param,))\n",
    "        plt.plot(trajectory[:,0],trajectory[:,1],'k')\n",
    "        \n",
    "plt.draw()"
   ]
  },
  {
   "cell_type": "markdown",
   "metadata": {
    "id": "ZHF4IPkaElaB"
   },
   "source": [
    "From the ODEs given above, we can extract the parameter matrix $M = \\left( \\begin{array}{cc}    a     & b \\\\    c     & d    \\end{array} \\right)$.\n",
    "\n",
    "The properties of this matrix (such as its eigenvectors, determinants and trace) can inform us about the behavior of the system. This is because we can view the current position in state space as a vector $\\left( \\begin{array}{c} x \\\\ y \\end{array} \\right)$, and one step of the dynamics defined by our dynamical system as multiplying with $M$.\n",
    "\n",
    ">***Homework exercise 4:*** Play with the parameters of the system to get different types of behaviour. Find parameters for which the system has all six types of equilibria. Report the corresponding eigenvalues (use the function <code>np.linalg.eig()</code>) and check if they are consistent with what is mentioned in the lecture slides. Also hand in the corresponding phase portait plots.\n",
    "<br>"
   ]
  },
  {
   "cell_type": "code",
   "execution_count": null,
   "metadata": {
    "id": "4KEUHaz-ElaC"
   },
   "outputs": [],
   "source": [
    "### YOUR CODE HERE ###\n",
    "\n",
    "###"
   ]
  }
 ],
 "metadata": {
  "colab": {
   "collapsed_sections": [],
   "include_colab_link": true,
   "name": "Copy of Lab1 – Linear Algebra and ODEs.ipynb",
   "provenance": []
  },
  "kernelspec": {
   "display_name": "Python 3",
   "language": "python",
   "name": "python3"
  },
  "language_info": {
   "codemirror_mode": {
    "name": "ipython",
    "version": 3
   },
   "file_extension": ".py",
   "mimetype": "text/x-python",
   "name": "python",
   "nbconvert_exporter": "python",
   "pygments_lexer": "ipython3",
   "version": "3.8.3"
  }
 },
 "nbformat": 4,
 "nbformat_minor": 1
}
