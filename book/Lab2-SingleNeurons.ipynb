{
 "cells": [
  {
   "cell_type": "markdown",
   "metadata": {
    "id": "bfw4FLDCd6Gv"
   },
   "source": [
    "## 2. Models of Single Spiking Neurons\n",
    "\n",
    "This notebook is part of a larger effort to offer an approachable introduction to models of the mind and the brain for the course “Foundations of Neural and Cognitive Modelling”, offered at the University of Amsterdam by [Jelle (aka Willem) Zuidema](https://staff.fnwi.uva.nl/w.zuidema/). The notebook in this present form is the result of the combined work of Iris Proff, [Marianne de Heer Kloots](http://mdhk.net/), and [Simone Astarita](https://www.linkedin.com/in/simone-astarita-4499b11b5/).\n",
    "\n",
    "### Instructions\n",
    "\n",
    "The following instructions apply if and only if you are a student taking the course “Foundations of Neural and Cognitive Modelling” at the University of Amsterdam (Semester 1, Period 2, Year 2022).\n",
    "\n",
    "Submit your solutions on Canvas by Wednesday 16th November 09:00. Please hand in the following:\n",
    "- A copy of this notebook with the **code** and results of running the code filled in the required sections. The sections to complete all start as follows:\n",
    "\n",
    "<code>### YOUR CODE HERE ###</code>\n",
    "\n",
    "- A separate pdf file with the answers to the **homework exercises**. These can be identified by the following formatting, where **n** is the number of points (out of 10) that question **m** is worth:\n",
    "<br>\n",
    "\n",
    ">***Homework exercise m***: question(s) **(npt)**."
   ]
  },
  {
   "cell_type": "markdown",
   "metadata": {
    "id": "IXaQ19DeiacI"
   },
   "source": [
    "### Introduction\n",
    "In the previous computer lab we learned how to use Python to plot phase portraits as well as draw nullclines and trajectories of a 2-dimensional system of linear ODEs. Today we will use the same techniques to study the behaviour of two models of single neuron dynamics: the Fitzhugh-Nagumo model and the Izhikevich model. You will need to re-use some of the code you wrote in the previous computer lab.\n",
    "\n",
    "### 1. The Fitzhugh-Nagumo model \n",
    "The Fitzhugh-Nagumo model describes the neuronal dynamics with the following two\n",
    "ODEs, where $v$ refers to the membrane potential, $r$ is a recovery or feedback variable, $I$\n",
    "is the strength of the input current and $a$, $b$ and $c$ are constant parameters:\n",
    "\n",
    "$$\n",
    "\\begin{align*}\n",
    "    \\frac{dv}{dt} &= f(v, r) = c(v-\\frac{1}{3}v^3 + r + I) \\\\\n",
    "    \\frac{dr}{dt} &= g(v, r) = -\\frac{1}{c}(v - a + br)\n",
    "\\end{align*}\n",
    "$$\n",
    "\n",
    "Note that, for the Fitzhugh-Nagumo model as it is presented here, the sign of the\n",
    "membrane potential is opposite to what you would expect in a biological neuron. That\n",
    "means, actions potentials are modeled as negative, rather than positive, deflections."
   ]
  },
  {
   "cell_type": "markdown",
   "metadata": {
    "id": "7ijArMiLkn45"
   },
   "source": [
    "In order to understand these equations better, you can check what the equations of change of $v$ and $r$ produce for some of the extreme values ($-\\infty$,$0$,$\\infty$) of these variables. I.e., what do you get when both $v$ and $r$ are $0$? What when $v$ is very large but $r=0$?"
   ]
  },
  {
   "cell_type": "markdown",
   "metadata": {
    "id": "bJ6zUeaxide3"
   },
   "source": [
    "We will use a function called <code>dvdr</code> that takes an $v$-value, a $r$-value and a vector $(a, b, c, I)$ containing both the parameters of the system and its input. The function returns a vector with $\\frac{dv}{dt}$ and $\\frac{dr}{dt}$."
   ]
  },
  {
   "cell_type": "code",
   "execution_count": null,
   "metadata": {
    "id": "KBpSNeZTd6G4"
   },
   "outputs": [],
   "source": [
    "import matplotlib.pyplot as plt    # package for plotting\n",
    "import numpy as np                 # package for basic algebra\n",
    "from scipy.integrate import odeint # package to solve ODEs\n",
    "\n",
    "def dvdr(v,r,param):\n",
    "    dv = param[2]*(v - 1./3. * v**3 + r + param[3])\n",
    "    dr = (-1./param[2]) * (v - param[0] + param[1]*r)\n",
    "    return np.array([dv,dr])"
   ]
  },
  {
   "cell_type": "markdown",
   "metadata": {
    "id": "pPrSFGKTjzWd"
   },
   "source": [
    "Now we can check our intuitions above using the function <code>dvdr</code>. Use e.g., $1000$ rather than $\\infty$ to represent “very large”."
   ]
  },
  {
   "cell_type": "code",
   "execution_count": null,
   "metadata": {
    "id": "7RJbP8Tukcza"
   },
   "outputs": [],
   "source": [
    "# define parameter vector: these are just examples\n",
    "a = 0.7; b = 0.8; c = 3; I = 0; param = (a,b,c,I) \n",
    "\n",
    "# call newly defined function\n",
    "dvdr(1000,0,param)"
   ]
  },
  {
   "cell_type": "markdown",
   "metadata": {
    "id": "ipx-zFpkmN6g"
   },
   "source": [
    "We can also plot the vector field for this dynamical system for a grid of point in its state space."
   ]
  },
  {
   "cell_type": "code",
   "execution_count": null,
   "metadata": {
    "id": "XPBkL1lrfLy2"
   },
   "outputs": [],
   "source": [
    "# create v and r vectors\n",
    "v = np.arange(-2, 2, 0.2)\n",
    "r = np.arange(-2, 2, 0.2)\n",
    "\n",
    "# create arrays with all combinations of x and y\n",
    "v_vals, r_vals = np.meshgrid(v, r)\n",
    "\n",
    "# generate dv and dr at all points\n",
    "a = 0.7; b = 0.8; c = 3; I = 0\n",
    "param = (a,b,c,I) \n",
    "\n",
    "# evaluate ODE at all points in our grid\n",
    "v_dirs = np.empty((len(v_vals),len(v_vals)))\n",
    "r_dirs = np.empty((len(v_vals),len(v_vals)))\n",
    "\n",
    "for i in np.arange(0,len(v_vals)):\n",
    "    for j in np.arange(0,len(v_vals)):\n",
    "        dirs = dvdr(v_vals[i,j], r_vals[i,j], param)\n",
    "        v_dirs[i,j] = dirs[0]\n",
    "        r_dirs[i,j] = dirs[1]\n",
    "\n",
    "# make vector fields\n",
    "\n",
    "fig, ax = plt.subplots()\n",
    "q = ax.quiver(v_vals, r_vals, v_dirs, r_dirs, minlength=2 ) #r: xlocations v: ylocations r_dirs: xdirections v_dirs: ydirections"
   ]
  },
  {
   "cell_type": "markdown",
   "metadata": {
    "id": "5DbCZzRgn6Zn"
   },
   "source": [
    "Can you see where the nullclines are? Which one is the $r$-nullcline, which one the $v$-nullcline? Where (approximately) do they intersect?"
   ]
  },
  {
   "cell_type": "markdown",
   "metadata": {
    "id": "F3Sln6qgd6G6"
   },
   "source": [
    "The $v$- and $r$-nullclines of the Fitzhugh-Nagumo model are in fact given by:\n",
    "\n",
    "$$\n",
    "\\begin{align*}\n",
    "    r(v) &= \\frac{1}{3}v^3 - v - I\\\\\n",
    "    r(v) & = \\frac{a-v}{b}\n",
    "\\end{align*}\n",
    "$$\n",
    "\n",
    "> ***Homework exercise 1***: Explain what these two equations describe. Analytically show that the two previous equations indeed describe the nullclines of the system. This is a “pen&paper” exercise: solve it without the use of code. **(2pt)**\n",
    "\n",
    "Here are two functions <code>v_nullcline</code> and <code>r_nullcline</code> that return the $r$ values of the $v$- and $r$-nullclines when given input $v$ and a parameter vector containing the parameters of the system."
   ]
  },
  {
   "cell_type": "code",
   "execution_count": null,
   "metadata": {
    "id": "DwmVPmEud6G8"
   },
   "outputs": [],
   "source": [
    "def v_nullcline(v, param):\n",
    "    r = 1./3. * v**3 - v - param[3]\n",
    "    return r\n",
    "\n",
    "def r_nullcline(v, param):\n",
    "    r = (param[0]-v)/param[1]\n",
    "    return r"
   ]
  },
  {
   "cell_type": "markdown",
   "metadata": {
    "id": "p1GULZs4q739"
   },
   "source": [
    "Now we can use these functions to plot the null cline: run the code below to visualize them."
   ]
  },
  {
   "cell_type": "code",
   "execution_count": null,
   "metadata": {
    "id": "iVhDa1kjqwZx"
   },
   "outputs": [],
   "source": [
    "# make and plot nullclines\n",
    "plt.plot(v,r_nullcline(r,param))\n",
    "plt.plot(v,v_nullcline(r,param))\n",
    "plt.ylim((-2,2))\n",
    "plt.xlim((-2, 2))\n",
    "plt.xlabel('v')\n",
    "plt.ylabel('r')\n",
    "\n",
    "plt.show()"
   ]
  },
  {
   "cell_type": "markdown",
   "metadata": {
    "id": "GjtvoaWWuFJy"
   },
   "source": [
    "Finally, we can use the <code>odeint</code> function to plot some trajectories."
   ]
  },
  {
   "cell_type": "code",
   "execution_count": null,
   "metadata": {
    "colab": {
     "base_uri": "https://localhost:8080/",
     "height": 265
    },
    "id": "ZxRIwibRtxgI",
    "outputId": "1d047cfc-e5b1-4846-939f-a36b619b056d"
   },
   "outputs": [],
   "source": [
    "def ode_system(state, t, param):\n",
    "    v = state [0]\n",
    "    r = state [1]\n",
    "    # Here you use our dvdr function\n",
    "    return (dvdr(v,r, param))\n",
    "\n",
    "# initial value points\n",
    "v_init=1\n",
    "r_init=1\n",
    "# time points to evaluate\n",
    "t = np.arange(1,10,0.01)\n",
    "plt.plot(v_init,r_init,'bo')\n",
    "\n",
    "state = np.array([v_init, r_init]);\n",
    "trajectory = odeint(ode_system, state, t, args = (param,))\n",
    "plt.plot(trajectory[:,0],trajectory[:,1],'k')\n",
    "        \n",
    "plt.show()"
   ]
  },
  {
   "cell_type": "markdown",
   "metadata": {
    "id": "-nKbHRHruYP1"
   },
   "source": [
    "> Try to plot trajectories for different initial points."
   ]
  },
  {
   "cell_type": "markdown",
   "metadata": {
    "id": "zeHQnIRcvK_q"
   },
   "source": [
    "We can automate this for a grid of initial points."
   ]
  },
  {
   "cell_type": "code",
   "execution_count": null,
   "metadata": {
    "id": "gmTgvPp-siOG"
   },
   "outputs": [],
   "source": [
    "# package to solve ODEs\n",
    "from scipy.integrate import odeint\n",
    "\n",
    "# make grid of initial values for trajectories\n",
    "v_init = np.arange(-2, 2, 1)\n",
    "r_init = np.arange(-2, 2, 1)\n",
    "v_grid, r_grid = np.meshgrid(v_init, r_init)\n",
    "plt.plot(v_grid,r_grid,'bo')\n",
    "\n",
    "# time points to evaluate\n",
    "t = np.arange(1,10,0.01)\n",
    "\n",
    "# compute trajectories for each point on grid\n",
    "for i in np.arange(0,len(v_init)):\n",
    "    for j in np.arange(0,len(r_init)):\n",
    "        state = np.array([v_init[i], r_init[j]]);\n",
    "        trajectory = odeint(ode_system, state, t, args = (param,))\n",
    "        plt.plot(trajectory[:,0],trajectory[:,1],'k')\n",
    "        \n",
    "\n",
    "plt.show()"
   ]
  },
  {
   "cell_type": "markdown",
   "metadata": {
    "id": "t-dwt1cXd6G9"
   },
   "source": [
    "We can now use our functions to study the behaviour of the system, like we did last time. That means we want to visualise the phase plot with nullclines and some trajectories. It should be fairly easy to adapt the script of the previous lab to plot the behaviour of the new system. Recall that the steps we are going through are:\n",
    "\n",
    "* Create vectors with $v$ and $r$ values. We previously used $x$ and $y$ as names; it doesn’t really matter what you call them in your script as long as you are consistent and clear.\n",
    "\n",
    "* Use np.meshgrid to create arrays with all possible combinations of $v$ and $r$ values.\n",
    "\n",
    "* Use your function <code>dvdr</code> to generate the $\\frac{dv}{dt}$ and $\\frac{dr}{dt}$ at all previously defined points and put them in a vector.\n",
    "\n",
    "* Use <code>ax.quiver</code> to create the vector fields (use <code>fig, ax = plt.subplots()</code> before).\n",
    "\n",
    "* Generate a (fine grained) sequence of $v$-values to plot your nullclines, fill vectors with the $r$ values on these values.\n",
    "\n",
    "* Plot the nullclines.\n",
    "\n",
    "* Make a vector of time values and a grid of $v$- and $r$-values corresponding to starting points for the trajectories.\n",
    "\n",
    "* Plot the trajectories for each starting point using <code>odeint()</code>. That function takes a function <code>ode_system</code> as an input.\n",
    "\n",
    "> Draw the phase plane of the Fitzhugh-Nagumo model with $a = 0.7, b = 0.8, c = 3$ and set the injected current $I$ to $0$. The equilibrium point for these parameters is $(1.1994, −0.62426)$: we plot it so that you can check that your graph looks correct."
   ]
  },
  {
   "cell_type": "code",
   "execution_count": null,
   "metadata": {
    "id": "iPjI_iivd6G_"
   },
   "outputs": [],
   "source": [
    "### YOUR CODE HERE ###\n",
    "\n",
    "# create v and r vectors\n",
    "\n",
    "# create arrays with all combinations of x and y\n",
    "\n",
    "# generate dv and dr at all points\n",
    "\n",
    "# evaluate ODE at all points in our grid\n",
    "\n",
    "# make vector field\n",
    "\n",
    "# compute and plot nullclines\n",
    "\n",
    "# make grid of initial values for trajectories\n",
    "\n",
    "# time points to evaluate\n",
    "\n",
    "# compute trajectories for each point on grid\n",
    "\n",
    "# mark equilibrium\n",
    "plt.plot(0.804848,-0.63106,'ro')\n",
    "\n",
    "plt.show()"
   ]
  },
  {
   "cell_type": "markdown",
   "metadata": {
    "id": "5FpGJrXPd6HA"
   },
   "source": [
    "When no pertubations are made to the system, it will stay in its equilibrium, as both $\\frac{dv}{dt}$ and $\\frac{dr}{dt}$ are equal to $0$. Briefly interjecting a current $I$ into the system will move it a little bit in the state space (look at the differential equations to understand how). We do not explicitly model a current as this would be require more coding. If you change the value for $I$ instead, you will mimic a constant, not a brief input, and this will also shift the equilibrium point. We can instead  manually set the starting point of the trajectory to different points in the state space and observe what happens.\n",
    "\n",
    "<br>\n",
    "\n",
    "> ***Homework exercise 2***: What happens when the neuron is depolarized from its equilibrium value? In other words, explain what happens to the trajectories in the phase portait you created above. Does the system get back to the equilibrium? Do you get different types of behaviour depending on how much you perturbate the system? Make plots of the corresponding trajectories to illustrate this. How would you describe the path back to the equilibrium? **(2pt)**\n",
    "\n",
    "> ***Homework exercise 3***: Plot the value of $v$ on different trajectories in the state space (i.e. starting at different states $(v,r)$) against the time $t$: that is, plot $v(t)$. Does this plot remind you of something? **(2pt)**\n",
    "> \n",
    "> Hint: you can use the output of the function <code>odeint</code> to create a plot of $v$ versus $t$. <code>odeint</code> gives as output a matrix <code>trajectories</code> with the $v$-values in the first column and the $r$-values in the second column."
   ]
  },
  {
   "cell_type": "code",
   "execution_count": null,
   "metadata": {
    "id": "UjFjw5eed6HB"
   },
   "outputs": [],
   "source": [
    "### YOUR CODE HERE ###\n",
    "\n",
    "# the t (time) range of values\n",
    "t =\n",
    "\n",
    "# STATE 1\n",
    "# the intial state\n",
    "state1 = \n",
    "# the trajectory using state1\n",
    "trajectory1 = \n",
    "# plot it\n",
    "plt.plot(t,trajectory[:,0])\n",
    "\n",
    "# repeat the above for different initial states\n",
    "\n",
    "###\n",
    "\n",
    "plt.xlabel('time')\n",
    "plt.ylabel('membrane potential')\n",
    "plt.title('different trajectories in state space')\n",
    "# you can use plt.legend to add a name for each initial state\n",
    "# example with three different states\n",
    "# plt.legend(['state 1','state 2','state 3'])\n",
    "plt.show()"
   ]
  },
  {
   "cell_type": "markdown",
   "metadata": {},
   "source": [
    "> ***Homework exercise 4***: Whether the nullclines cross on the left or on the right of the top of the curves determines the stability of the equilibrium. Can you change the parameters such that a qualitive change of the system occurs (i.e., a bifurcation) and the equilibrium is not stable anymore? What kind of equilibrium do we have in this case? **(2pt)**"
   ]
  },
  {
   "cell_type": "code",
   "execution_count": null,
   "metadata": {},
   "outputs": [],
   "source": [
    "### YOUR CODE HERE ###\n",
    "\n",
    "# define a new paramater vectors\n",
    "\n",
    "# then re-use the code you completed for exercise 3"
   ]
  },
  {
   "cell_type": "markdown",
   "metadata": {
    "id": "Jg03WW8Td6HC"
   },
   "source": [
    "### 2. The Izhikevich model \n",
    "The Izhikevich model is described by the following system of two ODEs:\n",
    "\n",
    "$$\n",
    "\\begin{align*}\n",
    "    \\frac{dv}{dt} &= f(v,u) = 0.04v^2 + 5v + 140 - u + I \\\\\n",
    "    \\frac{du}{dt} &= g(v,u) = a(bv - u)\n",
    "\\end{align*}\n",
    "$$\n",
    "\n",
    "with the reset condition: $\\text{if } v \\ge 30 \\text{ then } v \\leftarrow c;\\;\\; u \\leftarrow u+d$. The model is discontinous at the reset point - this way Izhikevich avoids having to explicitly model how the system gets back to the equilibrium point. Therefore, we cannot use the <code>odeint</code> to compute trajectories, but we need to do it point by point using the for loop. Check out the code under the comment *compute trajectories* below if you are interested how it can be done.\n",
    "\n",
    "The nullclines of the Izhikevich neuron are given by:\n",
    "\n",
    "$$\n",
    "\\begin{align*}\n",
    "    u(v) &= 0.04v^2 + 5v + 14 + I\\\\\n",
    "    u(v) &= bv\n",
    "\\end{align*}\n",
    "$$\n",
    "\n",
    "Both the <code>dvdu</code> function and the nullcline functions are already implemented in the code below, you can just use them as they are.\n",
    "\n",
    "> ***Homework exercise 5***: The Izhikevich neuron model can, depending on the parameters, exhibit several types of spiking behaviour, such as (1) regular spiking, (2) fast spiking or (3) intrinsically bursting behaviour. Find parameter sets that lead to these three different types of behaviour (look at http://www.izhikevich.org/publications/spikes.htm for help) and see if you can understand why they behave this way by plotting their trajectories. Hand in the phase portraints and $v(t)$-plots of the three different neuron types to show that they indeed exhibit the desired behaviour. Izhikevich assumes a constant input current of $I=10$. **(2pt)**"
   ]
  },
  {
   "cell_type": "code",
   "execution_count": null,
   "metadata": {
    "id": "lwQWILAbd6HD"
   },
   "outputs": [],
   "source": [
    "import numpy as np\n",
    "import matplotlib.pyplot as plt\n",
    "from scipy.integrate import odeint\n",
    "\n",
    "### set the parameters/initialise values\n",
    "v_init = -65; u_init = -18 # these are the initial values of the trajectory\n",
    "times = 2000; dt = 0.1;\n",
    "\n",
    "### YOUR CODE HERE ###\n",
    "# set values for parameters (a, b and c and d)\n",
    "# choose different ones to see all behaviours\n",
    "a = ; b = ; c = ; d = ; I = 10\n",
    "\n",
    "###\n",
    "\n",
    "params = np.array ([a,b,c,d,I])\n",
    "\n",
    "vmin = -80; vmax = 40 ;vstep = 5        # set min, max and stepsize for v\n",
    "umin = -30; umax = 30; ustep = 2.5      # set min, max and stepsize for u\n",
    "\n",
    "# create v and r values\n",
    "v = np.arange(vmin, vmax, vstep)            # create v values\n",
    "u = np.arange(umin, umax, ustep)            # create u values\n",
    "v_vals, u_vals = np.meshgrid(v, u)\n",
    "\n",
    "### ODE definition\n",
    "def dvdu(v,u,param):\n",
    "    a = params[0]; b = params[1]; c = params[2]; d = params[3]; I = params[4]\n",
    "    dv = 0.04 * v**2 + 5*v + 140 - u + I\n",
    "    du = a * (b*v - u)\n",
    "    \n",
    "    if v >= 30: # reset condition\n",
    "        dv = v + c\n",
    "        du = d\n",
    "        \n",
    "    return np.array([dv,du])\n",
    "\n",
    "### nullcline functions\n",
    "def v_nullcline(v, param):\n",
    "    I = param[4]\n",
    "    return 0.04*v**2 + 5*v + 140 + I\n",
    "\n",
    "def u_nullcline(v, param):\n",
    "    b = param[1]\n",
    "    return b*v\n",
    "\n",
    "# evaluate ODE at all points in our grid\n",
    "v_dirs = np.empty((len(v_vals),len(v_vals)))\n",
    "u_dirs = np.empty((len(v_vals),len(v_vals)))\n",
    "vnorm = np.empty((len(v_vals),len(v_vals)))\n",
    "unorm = np.empty((len(v_vals),len(v_vals)))\n",
    "for i in np.arange(0,len(v_vals)):\n",
    "    for j in np.arange(0,len(v_vals)):\n",
    "        dirs = dvdu(v_vals[i,j], u_vals[i,j], params)\n",
    "        v_dirs[i,j] = dirs[0]\n",
    "        u_dirs[i,j] = dirs[1]\n",
    "        # compute normalized arrows (all of the same length) to make display more neat\n",
    "        vnorm[i,j]= v_dirs[i,j] / np.sqrt(u_dirs[i,j]**2 + v_dirs[i,j]**2)\n",
    "        unorm[i,j] = u_dirs[i,j] / np.sqrt(u_dirs[i,j]**2 + v_dirs[i,j]**2)\n",
    "\n",
    "fig, ax = plt.subplots()\n",
    "q = ax.quiver(v, u, vnorm, unorm,minlength = 2) #v: xlocations u: ylocations r_dirs: xdirections v_dirs: ydirections \n",
    "#q = ax.quiver(v, u, v_dirs, u_dirs,minlength = 2)\n",
    "\n",
    "# generate data to plot nullclines\n",
    "v = np.arange (vmin, vmax, vstep/10)    # create v-values, use vmin and vmax from before\n",
    "v_nc = v_nullcline(v, params)            # generate y values for v-nullcline\n",
    "u_nc = u_nullcline(v, params)            # generate r values for r-nullcline\n",
    " \n",
    "# plot nullclines\n",
    "plt.plot(v, v_nc)\n",
    "plt.plot(v, u_nc)\n",
    "\n",
    "# plot reset threshold\n",
    "plt.plot(np.array([30, 30]), np.array([umin-2, umax+2]))\n",
    "plt.ylim((-30,30))\n",
    "plt.xlim((-80, 40))\n",
    "\n",
    "#### compute trajectories ###\n",
    "\n",
    "# allocate space\n",
    "v_traj = np.zeros(times); u_traj = np.zeros(times)\n",
    "v_traj[0]=v_init; u_traj[0]=u_init\n",
    "\n",
    "# compute trajectories point by point\n",
    "for t in range(0,times-1,1):\n",
    "    if v_traj[t] < 30: # update according to ODE using the dvdu function\n",
    "        [dv,du]=dvdu(v_traj[t],u_traj[t],params)\n",
    "        v_traj[t+1] = v_traj[t]+ dv*dt\n",
    "        u_traj[t+1] = u_traj[t] + dt*du\n",
    "    else: # update according to reset condition\n",
    "        v_traj[t] = 30\n",
    "        v_traj[t+1] = c\n",
    "        u_traj[t+1] = u_traj[t] + d\n",
    "\n",
    "# plot trajectory\n",
    "plt.plot(v_init, u_init, 'ro')        \n",
    "plt.plot(v_traj,u_traj)\n",
    "plt.ylim((-30,30))\n",
    "plt.xlim((-80, 40))\n",
    "plt.show()\n",
    "\n",
    "#plot v-values against time\n",
    "plt.plot(np.arange(0,times),v_traj)\n",
    "plt.show()"
   ]
  }
 ],
 "metadata": {
  "colab": {
   "name": "Lab2-SingleNeurons.ipynb",
   "provenance": []
  },
  "kernelspec": {
   "display_name": "Python 3",
   "language": "python",
   "name": "python3"
  },
  "language_info": {
   "codemirror_mode": {
    "name": "ipython",
    "version": 3
   },
   "file_extension": ".py",
   "mimetype": "text/x-python",
   "name": "python",
   "nbconvert_exporter": "python",
   "pygments_lexer": "ipython3",
   "version": "3.8.3"
  }
 },
 "nbformat": 4,
 "nbformat_minor": 1
}
